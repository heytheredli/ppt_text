{
 "cells": [
  {
   "cell_type": "markdown",
   "metadata": {},
   "source": [
    "# This is a notebook for searching for hymn lyrics for church\n",
    "\n",
    "This notebook is designed for folks who are not familiar with English to be able to find hymn lyrics. The output will be lyrics that be pasted into powerpoint"
   ]
  },
  {
   "cell_type": "markdown",
   "metadata": {},
   "source": [
    "## Helper functions (run them, but don't change it)"
   ]
  },
  {
   "cell_type": "code",
   "execution_count": 1,
   "metadata": {},
   "outputs": [],
   "source": [
    "import requests\n",
    "import urllib.request\n",
    "import time\n",
    "from bs4 import BeautifulSoup\n",
    "from IPython.display import Markdown, display\n",
    "from googlesearch import search\n",
    "\n",
    "def printmd(string):\n",
    "    display(Markdown(string))\n",
    "    \n",
    "def get_hymnal_url(title):\n",
    "    for result in search(title, tld='com', lang='en', num=10, start=0, stop=50, pause=2.0):\n",
    "        print(result)\n",
    "        if 'hymnary' in result:\n",
    "            return result\n",
    "\n",
    "def get_hymn_lyrics(site, hymn_number=None, url=None):\n",
    "    if site == 'christian study':\n",
    "        if (hymn_number < 100) & (hymn_number >= 10):\n",
    "            hymn_number = f'0{hymn_number}'\n",
    "        elif (hymn_number < 10):\n",
    "            hymn_number = f'00{hymn_number}'\n",
    "        url = f'http://www.christianstudy.com/data/hymns/text/life{hymn_number}.html'\n",
    "        response = requests.get(url)\n",
    "        response.encoding = 'big5'\n",
    "        soup = BeautifulSoup(response.text, \"html.parser\")\n",
    "\n",
    "        for p in soup.findAll('p'):\n",
    "            lyrics = str(p.findAll('font'))\n",
    "            lyrics = lyrics.replace('<li>', '').replace('</li>', '')\n",
    "            lyrics = lyrics.replace('<ol>', '').replace('</ol>', '')\n",
    "            lyrics = lyrics.replace('<br/>', '')\n",
    "            lyrics = lyrics.replace('<font size=\"1\">', '').replace('</font>', '').replace('<font size=\"+2\">', '')\n",
    "            lyrics = lyrics.replace('[', '').replace(']', '').replace(',', '')\n",
    "            print(lyrics)\n",
    "    else:\n",
    "        response = requests.get(url)\n",
    "        soup = BeautifulSoup(response.text, \"html.parser\")\n",
    "\n",
    "        for item in soup.findAll('p'):\n",
    "            text = ''\n",
    "            for i in item.contents:\n",
    "                try:\n",
    "                    text += str(i) + '\\n'\n",
    "                except:\n",
    "                    pass\n",
    "            printmd(f\"{text.strip().replace('<br/>', '')}\")\n",
    "    \n",
    "\n",
    "\n",
    "    \n",
    "def get_hymn_titles(url=f'http://www.christianstudy.com/lifehymns.html'):\n",
    "    response = requests.get(url)\n",
    "    soup = BeautifulSoup(response.text, \"html.parser\")\n",
    "    hymn_titles = {}\n",
    "    for tr in soup.findAll('tr'):\n",
    "        for td in tr.findAll('td'):\n",
    "            try:\n",
    "                if (str(td.contents[0].split('.')[0]).isdigit()):\n",
    "                    for small in td.findAll('small'):\n",
    "                        temp_title = small.contents[0]\n",
    "                    hymn_titles[int(str(td.contents[0].split('.')[0]))] = temp_title\n",
    "            except Exception as e:\n",
    "                pass\n",
    "    return hymn_titles"
   ]
  },
  {
   "cell_type": "markdown",
   "metadata": {},
   "source": [
    "## Defining Global Variables (run it, but don't change it)"
   ]
  },
  {
   "cell_type": "code",
   "execution_count": 2,
   "metadata": {},
   "outputs": [],
   "source": [
    "HYMN_TITLES = get_hymn_titles()"
   ]
  },
  {
   "cell_type": "markdown",
   "metadata": {},
   "source": [
    "## Input hymn numbers (you'll need to input values here)"
   ]
  },
  {
   "cell_type": "code",
   "execution_count": 3,
   "metadata": {},
   "outputs": [
    {
     "name": "stdout",
     "output_type": "stream",
     "text": [
      "Enter hymn numbers from \"Hymns of Life (Chinese brown book)\" (e.g. 344, 5, 164): 344, 5, 164\n"
     ]
    }
   ],
   "source": [
    "HYMN_NUMBERS = input('Enter hymn numbers from \"Hymns of Life (Chinese brown book)\" (e.g. 344, 5, 164): ')"
   ]
  },
  {
   "cell_type": "code",
   "execution_count": 4,
   "metadata": {},
   "outputs": [
    {
     "name": "stdout",
     "output_type": "stream",
     "text": [
      "[344, 5, 164]\n"
     ]
    }
   ],
   "source": [
    "HYMN_NUMBERS = [int(x) for x in HYMN_NUMBERS.split(', ')]\n",
    "print(HYMN_NUMBERS)"
   ]
  },
  {
   "cell_type": "markdown",
   "metadata": {},
   "source": [
    "## Run this cell to get Chinese lyrics"
   ]
  },
  {
   "cell_type": "code",
   "execution_count": 5,
   "metadata": {},
   "outputs": [
    {
     "name": "stdout",
     "output_type": "stream",
     "text": [
      "<font color=\"#3333FF\" size=\"+3\">【主翅膀下】\n",
      "\n",
      "\n",
      "\n",
      "主翅膀下，我今可安然居住，夜色雖深沉兼狂風暴雨；\n",
      "我要信靠祂，深知祂必眷顧，已蒙祂救贖，我是祂兒女。\n",
      "\n",
      "主翅膀下，是憂傷時避難所，我心何等渴慕在此安歇；\n",
      "世界無法醫治我心靈創傷，在此我蒙祝福得著慰藉。\n",
      "\n",
      "主翅膀下，是何等寶貴享受，我在此藏躲到試煉已過；\n",
      "有主蔭庇保佑無災害擔憂，安息在主裡永遠得著穩妥。\n",
      "\n",
      "副歌：安穩隱藏主翅膀下，誰能使我離主愛，\n",
      "　　　主翅膀下，我安居之家，安然居住到萬代。\n",
      "  \n",
      "\n",
      "\n",
      "<font color=\"#3333FF\" size=\"+3\">【聖哉三一】\n",
      "\n",
      "\n",
      "\n",
      "聖哉，聖哉，聖哉，全能大主宰！\n",
      "清晨我眾歌頌，歡聲上達天庭；\n",
      "聖哉，聖哉，聖哉，慈悲全能主宰，\n",
      "讚美三一神，父子與聖靈。\n",
      "\n",
      "聖哉，聖哉，聖哉，眾聖都敬拜，\n",
      "放下黃金冠冕，環繞在水晶海；\n",
      "千萬天使天軍，俯伏叩拜主前，\n",
      "昔在而今在，永在億萬年。\n",
      "\n",
      "聖哉，聖哉，聖哉，主莊嚴威榮；\n",
      "罪人昏昧難見，因黑暗罪深重；\n",
      "惟獨上主至聖，惟獨上主至尊，\n",
      "全能又全愛，至聖潔真神。\n",
      "\n",
      "聖哉，聖哉，聖哉，全能大主宰！\n",
      "地上天空海洋，萬物同頌主名；\n",
      "聖哉，聖哉，聖哉，慈悲全能主宰，\n",
      "讚美三一神，父子與聖靈。\n",
      "\n",
      "   \n",
      "\n",
      "<font color=\"#3333FF\" size=\"+3\">【擘生命餅】\n",
      "\n",
      "\n",
      "\n",
      "\n",
      "1.      求主擘生命餅，供我需要，正如當年你在海濱所行；\n",
      "透過聖經字句，得見主面，我靈安靜等候生命之道。\n",
      "\n",
      "懇求將你真理，向我印証，正如當年祝餅在加利利；\n",
      "救主解我束縛，除我捆鎖，我屬我主基督，平安之源。\n",
      "\n",
      "你是生命之糧，賜我力量，聖言就是真理，把我拯救；\n",
      "我願與主同活，在地若天，教我愛慕真理，因你是愛。\n",
      "\n",
      "求主差遣聖靈，感化我心，開我心靈眼睛，使我得見；\n",
      "聖書向我顯示奇妙真理，聖經裡我得見救主基督。\n",
      "\n",
      "   \n",
      "\n",
      "\n"
     ]
    }
   ],
   "source": [
    "for hymn_number in HYMN_NUMBERS:\n",
    "    get_hymn_lyrics(site='christian study', hymn_number=hymn_number)"
   ]
  },
  {
   "cell_type": "markdown",
   "metadata": {},
   "source": [
    "## Run this cell to get English lyrics"
   ]
  },
  {
   "cell_type": "code",
   "execution_count": 6,
   "metadata": {
    "scrolled": false
   },
   "outputs": [
    {
     "name": "stdout",
     "output_type": "stream",
     "text": [
      "https://www.hymnal.net/en/hymn/h/565\n",
      "https://www.youtube.com/watch?v=qeHcf_EtZ6A\n",
      "https://hymnary.org/text/under_his_wings_i_am_safely_abiding\n"
     ]
    },
    {
     "data": {
      "text/markdown": [
       "1 Under His wings I am safely abiding.\n",
       "\n",
       "\r\n",
       "Tho' the night deepens and tempests are wild,\n",
       "\n",
       "\r\n",
       "Still I can trust Him; I know He will keep me.\n",
       "\n",
       "\r\n",
       "He has redeemed me, and I am His child.\n"
      ],
      "text/plain": [
       "<IPython.core.display.Markdown object>"
      ]
     },
     "metadata": {},
     "output_type": "display_data"
    },
    {
     "data": {
      "text/markdown": [
       "Refrain:\n",
       "\n",
       "\r\n",
       "Under His wings, under His wings,\n",
       "\n",
       "\r\n",
       "Who from His love can sever?\n",
       "\n",
       "\r\n",
       "Under His wings my soul shall abide,\n",
       "\n",
       "\r\n",
       "Safely abide forever.\n"
      ],
      "text/plain": [
       "<IPython.core.display.Markdown object>"
      ]
     },
     "metadata": {},
     "output_type": "display_data"
    },
    {
     "data": {
      "text/markdown": [
       "2 Under His wings, what a refuge in sorrow!\n",
       "\n",
       "\r\n",
       "How the heart yearningly turns to His rest!\n",
       "\n",
       "\r\n",
       "Often when earth has no balm for my healing,\n",
       "\n",
       "\r\n",
       "There I find comfort, and there I am blest. [Refrain]\n"
      ],
      "text/plain": [
       "<IPython.core.display.Markdown object>"
      ]
     },
     "metadata": {},
     "output_type": "display_data"
    },
    {
     "data": {
      "text/markdown": [
       "3 Under His wings, oh, what precious enjoyment!\n",
       "\n",
       "\r\n",
       "There will I hide till life’s trials are o’er;\n",
       "\n",
       "\r\n",
       "Sheltered, protected, no evil can harm me.\n",
       "\n",
       "\r\n",
       "Resting in Jesus, I’m safe evermore. [Refrain]\n",
       "\n",
       "\n",
       "Source: \n",
       "<a href=\"/hymn/NNBH2001/269\">The New National Baptist Hymnal (21st Century Edition) #269</a>"
      ],
      "text/plain": [
       "<IPython.core.display.Markdown object>"
      ]
     },
     "metadata": {},
     "output_type": "display_data"
    },
    {
     "data": {
      "text/markdown": [
       "<small><a href=\"/info/advertisements.html\">Advertisements</a></small>"
      ],
      "text/plain": [
       "<IPython.core.display.Markdown object>"
      ]
     },
     "metadata": {},
     "output_type": "display_data"
    },
    {
     "data": {
      "text/markdown": [
       "<small><a href=\"/info/advertisements.html\">Advertisements</a></small>"
      ],
      "text/plain": [
       "<IPython.core.display.Markdown object>"
      ]
     },
     "metadata": {},
     "output_type": "display_data"
    },
    {
     "name": "stdout",
     "output_type": "stream",
     "text": [
      "https://www.youtube.com/watch?v=AgHrNNM23p8\n",
      "https://hymnary.org/text/holy_holy_holy_lord_god_almighty_early\n"
     ]
    },
    {
     "data": {
      "text/markdown": [
       "1 Holy, holy, holy! Lord God Almighty!\n",
       "\n",
       "\r\n",
       "Early in the morning our song shall rise to thee.\n",
       "\n",
       "\r\n",
       "Holy, holy, holy! Merciful and mighty!\n",
       "\n",
       "\r\n",
       "God in three Persons, blessed Trinity!\n"
      ],
      "text/plain": [
       "<IPython.core.display.Markdown object>"
      ]
     },
     "metadata": {},
     "output_type": "display_data"
    },
    {
     "data": {
      "text/markdown": [
       "2 Holy, holy, holy! All the saints adore thee,\n",
       "\n",
       "\r\n",
       "casting down their golden crowns around the glassy sea;\n",
       "\n",
       "\r\n",
       "cherubim and seraphim falling down before thee,\n",
       "\n",
       "\r\n",
       "who wert, and art, and evermore shalt be.\n"
      ],
      "text/plain": [
       "<IPython.core.display.Markdown object>"
      ]
     },
     "metadata": {},
     "output_type": "display_data"
    },
    {
     "data": {
      "text/markdown": [
       "3 Holy, holy, holy! Though the darkness hide thee,\n",
       "\n",
       "\r\n",
       "though the eye of sinful man thy glory may not see,\n",
       "\n",
       "\r\n",
       "only thou art holy; there is none beside thee\n",
       "\n",
       "\r\n",
       "perfect in pow'r, in love, and purity.\n"
      ],
      "text/plain": [
       "<IPython.core.display.Markdown object>"
      ]
     },
     "metadata": {},
     "output_type": "display_data"
    },
    {
     "data": {
      "text/markdown": [
       "4 Holy, holy, holy! Lord God Almighty!\n",
       "\n",
       "\r\n",
       "All thy works shall praise thy name in earth and sky and sea.\n",
       "\n",
       "\r\n",
       "Holy, holy, holy! Merciful and mighty!\n",
       "\n",
       "\r\n",
       "God in three Persons, blessed Trinity!\n",
       "\n",
       "\n",
       "Source: \n",
       "<a href=\"/hymn/TPH2018/230\">Trinity Psalter Hymnal #230</a>"
      ],
      "text/plain": [
       "<IPython.core.display.Markdown object>"
      ]
     },
     "metadata": {},
     "output_type": "display_data"
    },
    {
     "data": {
      "text/markdown": [
       "Scripture References:\n",
       "\n",
       "\n",
       "st.1 \t= Isa. 6:3, Rev. 4:8\n",
       "\n",
       "\n",
       "st.2\t= Isa. 6:2-3, Rev. 4:6-10\n",
       "\n",
       "\n",
       "st.3\t= Isa. 6:3-4, Rev. 4:11, Rev. 15:4\n",
       "\n",
       "\n",
       "st.4\t= Rev. 4:8, Rev. 5:13"
      ],
      "text/plain": [
       "<IPython.core.display.Markdown object>"
      ]
     },
     "metadata": {},
     "output_type": "display_data"
    },
    {
     "data": {
      "text/markdown": [
       "Using reverent and apocalyptic language, \"Holy, Holy, Holy!\" alludes to Revelation 4:6-11; 5:13; 15:2-4; and Isaiah 6:1-3 to sing the great majesty of the triune God. Note the cosmic scope of the text: human beings (st. 1), saints and angels in glory (st. 2), and all creation (st. 4) praise the name of the Lord! Though God's holiness, love, and purity are cloaked in mystery, we can still experience God's mercy and mighty power, and we can participate in praising God. The text is trinitarian in theme, but not in structure."
      ],
      "text/plain": [
       "<IPython.core.display.Markdown object>"
      ]
     },
     "metadata": {},
     "output_type": "display_data"
    },
    {
     "data": {
      "text/markdown": [
       "Reginald Heber (b. Malpas, Cheshire, England, 1783; d. Trichinopoly, India, 1826) wrote the text for Trinity Sunday, the day for which lectionary in the Church of England's \n",
       "<em>Book of Common Prayer</em>\n",
       " prescribes the reading of Revelation 4. It was first published in the third edition (1826) of \n",
       "<em>A Selection of Psalms and Hymns for the Parish Church of Banbury</em>\n",
       " and was also published posthumously in Heber's \n",
       "<em>Hymns Written and Adapted to the Weekly Church Services of the Year</em>\n",
       " (1827). The unusual single rhyme (all on the \"ee\" sound) and the uneven number of syllables in some lines have not detracted from the hymn's popularity."
      ],
      "text/plain": [
       "<IPython.core.display.Markdown object>"
      ]
     },
     "metadata": {},
     "output_type": "display_data"
    },
    {
     "data": {
      "text/markdown": [
       "Educated at Brasenose College, Oxford, Heber was ordained in the Church of England in 1807. He first served his family's parish in Hodnet, Shropshire (1807-1823), and in 1823 his dream of being a missionary was fulfilled when he was appointed bishop of Calcutta. He worked and traveled ceaselessly until his sudden death in 1826. Heber began writing hymns partly because of his dissatisfaction with the poor psalm singing in his congregation and partly because he was influenced by the vital hymn singing among Methodists and Baptists. He wrote hymns while in Hodnet and expressed a desire to compile a hymnbook with its contents appropriate to the church year. His fifty-seven hymn texts were published posthumously by his wife in \n",
       "<em>Hymns Written and Adapted to the Weekly Church Services of the Year</em>\n",
       " (1827), a hymnbook that began a tradition of arranging the contents of hymn collections according to the church year."
      ],
      "text/plain": [
       "<IPython.core.display.Markdown object>"
      ]
     },
     "metadata": {},
     "output_type": "display_data"
    },
    {
     "data": {
      "text/markdown": [
       "Liturgical Use:\n",
       "\n",
       "\n",
       "Beginning of worship; worship services emphasizing the Trinity."
      ],
      "text/plain": [
       "<IPython.core.display.Markdown object>"
      ]
     },
     "metadata": {},
     "output_type": "display_data"
    },
    {
     "data": {
      "text/markdown": [
       "--\n",
       "<cite>Psalter Hymnal Handbook</cite>"
      ],
      "text/plain": [
       "<IPython.core.display.Markdown object>"
      ]
     },
     "metadata": {},
     "output_type": "display_data"
    },
    {
     "data": {
      "text/markdown": [
       "======================="
      ],
      "text/plain": [
       "<IPython.core.display.Markdown object>"
      ]
     },
     "metadata": {},
     "output_type": "display_data"
    },
    {
     "data": {
      "text/markdown": [
       "<strong>Holy, holy, holy Lord God Almighty</strong>\n",
       ". Bishop R. Heber. [\n",
       "<em>Holy Trinity</em>\n",
       ".]  First published in his posthumous \n",
       "<em>Hymns</em>\n",
       ", &c, 1827, p. 84, in 4 stanzas of 4 lines, and appointed for Trinity Sunday. It was soon adopted by hymn-book compilers, and is the best known and most widely used of the author's hymns. It is a splendid metrical paraphrase of Rev. iv. 8-11, line 2 of stanza i., \"Early in the morning our song shall rise to Thee,\" has been subjected to several changes to adapt the hymn to any hour of the day. Some of these alterations are:—\n",
       "\n",
       "\n",
       "1.  \"Gratefully adoring our song,” &c.   \n",
       "<em>Leeds Hymn Book</em>\n",
       ", 1853.\n",
       "\n",
       "\n",
       "2.  \"Morning and evening our song,\" &c.   \n",
       "<em>Kennedy</em>\n",
       ", 1863.\n",
       "\n",
       "\n",
       "3.  \"Holy, holy, holy, our song,” &c.   \n",
       "<em>Hymnary</em>\n",
       ", 1872.\n",
       "\n",
       "\n",
       "4.  “Morning, noon, and night, our song,\" &c.\n",
       "\n",
       "\n",
       "The most popular change is the first of these. The majority of hymn-books, however, retain the original reading. Although a special hymn for Trinity Sunday, it is sometimes appointed as a morning hymn, as in the Society for Promoting Christian Knowledge \n",
       "<em>Church Hymns</em>\n",
       ", 1871."
      ],
      "text/plain": [
       "<IPython.core.display.Markdown object>"
      ]
     },
     "metadata": {},
     "output_type": "display_data"
    },
    {
     "data": {
      "text/markdown": [
       "--John Julian, \n",
       "<em>Dictionary of Hymnology</em>\n",
       "  (1907)"
      ],
      "text/plain": [
       "<IPython.core.display.Markdown object>"
      ]
     },
     "metadata": {},
     "output_type": "display_data"
    },
    {
     "data": {
      "text/markdown": [
       "============"
      ],
      "text/plain": [
       "<IPython.core.display.Markdown object>"
      ]
     },
     "metadata": {},
     "output_type": "display_data"
    },
    {
     "data": {
      "text/markdown": [
       "<strong> Holy, holy, holy, Lord God Almighty</strong>\n",
       ", p. 530, ii. The earliest printed form of this hymn known to us is in \n",
       "<em>A Selection of Psalms and Hymns for the Parish Church of Banbury</em>\n",
       ", 3rd ed., 1825."
      ],
      "text/plain": [
       "<IPython.core.display.Markdown object>"
      ]
     },
     "metadata": {},
     "output_type": "display_data"
    },
    {
     "data": {
      "text/markdown": [
       "--John Julian, \n",
       "<em>Dictionary of Hymnology, New Supplement</em>\n",
       "  (1907)"
      ],
      "text/plain": [
       "<IPython.core.display.Markdown object>"
      ]
     },
     "metadata": {},
     "output_type": "display_data"
    },
    {
     "data": {
      "text/markdown": [
       "<a href=\"/tune/nicaea_dykes\">Go to tune page &gt;</a>"
      ],
      "text/plain": [
       "<IPython.core.display.Markdown object>"
      ]
     },
     "metadata": {},
     "output_type": "display_data"
    },
    {
     "data": {
      "text/markdown": [
       "In 325 AD, Church leaders convened in the town of Nicaea in Bithynia to formulate a consensus of belief and practice amongst Christians. What resulted was the Nicene Creed, a document passed on through the ages as one of the pillars of church doctrine. The primary function of this creed was to establish a firm belief in the Trinity, countering the heresy of Arius, who believed that Jesus was not fully divine.  It was this creed that inspired Reginald Heber to write this great hymn of praise to the Triune God, with the intent that the hymn be sung before or after the creed was recited in a service, and on Trinity Sunday – eight weeks after Easter. The tune, composed by John B. Dykes for Heber’s text, is also titled NICAEA in recognition of Heber’s text. The words evoke a sense of awe at the majesty of God, and call on all of creation – humans, saints and angels, and all living things – to praise the Godhead three-in-one."
      ],
      "text/plain": [
       "<IPython.core.display.Markdown object>"
      ]
     },
     "metadata": {},
     "output_type": "display_data"
    },
    {
     "data": {
      "text/markdown": [
       "It is uncommon when researching hymns to find one included in just about every hymnal, with almost universally similar text. And yet this is the case with Reginald Heber’s greatest hymn, “Holy! Holy! Holy!” published in 1826. The few variations are found in versions sung by non-trinitarian churches – the Mormon Tabernacle Choir changed the words, “God in Three Persons, blessed Trinity” to “God in His glory, blessed Deity!” – but these alterations are few and far between. The only other changes make the language more gender inclusive: \"though the eye of sinful man\" changes to \"though the eye made blind by sin.\""
      ],
      "text/plain": [
       "<IPython.core.display.Markdown object>"
      ]
     },
     "metadata": {},
     "output_type": "display_data"
    },
    {
     "data": {
      "text/markdown": [
       "It is also very difficult to find a version of the hymn that is not sung to the most well-known of John B. Dykes’ tunes, NICAEA, written to accompany Heber’s text in 1861, and named after the council which first established the doctrine of the Trinity in 325 AD. Almost every hymnal includes the tune in the key of D. A few notes about instrumentation: to emphasize the confessional nature of the third stanza, bring down the volume a bit. Also, watch out for the last note of the third phrase! Too often we repeat the first phrase, which jumps from an A to an F# at the end. But the third phrase is purposefully different, holding out on the A. Make sure to really emphasize that difference."
      ],
      "text/plain": [
       "<IPython.core.display.Markdown object>"
      ]
     },
     "metadata": {},
     "output_type": "display_data"
    },
    {
     "data": {
      "text/markdown": [
       "There are a few different styles to which the tune can be adapted:\r\n",
       "\n",
       "<ul>\n",
       "<li>Steven Curtis Chapman’s contemporary, guitar-driven version with an original refrain</li>\n",
       "<li>Sufjan Stevens’quieter, more reflective version led by piano</li>\n",
       "<li>King’s College Choir’s traditional version with choir and organ</li>\n",
       "</ul>"
      ],
      "text/plain": [
       "<IPython.core.display.Markdown object>"
      ]
     },
     "metadata": {},
     "output_type": "display_data"
    },
    {
     "data": {
      "text/markdown": [
       "Heber wrote the hymn specifically for Trinity Sunday, which occurs eight weeks after Easter, to be sung before or after the Nicene Creed is recited. Yet it also functions as a hymn of praise that could be used at any point in a service throughout the liturgical year. It can also be used as a processional hymn in Communion services.\n",
       "<p>\n",
       "<p>There are a multitude of songs that could be sung with this hymn – Michael W. Smith’s “Agnus Dei,” Chris Tomlin’s “Holy is the Lord,” or the great hymn “All Creatures of our God and King” are just some examples.</p>\n",
       "<p>There are a number of organ/piano accompaniments and arrangements to choose from – here are a few suggestions:\r\n",
       "<ul>\n",
       "<li><a href=\"http://www.hymnary.org/node/15681\">The Coral Ridge Festival-Hymn Collection Vol I</a> (Organ)</li>\n",
       "<li>Hayes, Mark. <a href=\"http://www.hymnary.org/node/19628\">Hymn Harmonizations  by Hayes(Creative accompaniments for the church pianist)</a> </li>\n",
       "<li>Hopson, Hal H. <a href=\"http://www.hymnary.org/node/9803\">The Creative Use of the Piano in Worship</a>. Hope 8392</li>\n",
       "<li>Ferguson,John. <a href=\"http://www.hymnary.org/node/24540\">Festival Hymns for Organ, Brass, and Timpani-Set 3</a></li>\n",
       "</ul></p>\n",
       "<p>Laura de Jong,\r\n",
       "</p></p>"
      ],
      "text/plain": [
       "<IPython.core.display.Markdown object>"
      ]
     },
     "metadata": {},
     "output_type": "display_data"
    },
    {
     "data": {
      "text/markdown": [
       "<p>There are a multitude of songs that could be sung with this hymn – Michael W. Smith’s “Agnus Dei,” Chris Tomlin’s “Holy is the Lord,” or the great hymn “All Creatures of our God and King” are just some examples.</p>\n",
       "\n",
       "\n",
       "<p>There are a number of organ/piano accompaniments and arrangements to choose from – here are a few suggestions:\r\n",
       "<ul>\n",
       "<li><a href=\"http://www.hymnary.org/node/15681\">The Coral Ridge Festival-Hymn Collection Vol I</a> (Organ)</li>\n",
       "<li>Hayes, Mark. <a href=\"http://www.hymnary.org/node/19628\">Hymn Harmonizations  by Hayes(Creative accompaniments for the church pianist)</a> </li>\n",
       "<li>Hopson, Hal H. <a href=\"http://www.hymnary.org/node/9803\">The Creative Use of the Piano in Worship</a>. Hope 8392</li>\n",
       "<li>Ferguson,John. <a href=\"http://www.hymnary.org/node/24540\">Festival Hymns for Organ, Brass, and Timpani-Set 3</a></li>\n",
       "</ul></p>\n",
       "\n",
       "\n",
       "<p>Laura de Jong,\r\n",
       "</p>"
      ],
      "text/plain": [
       "<IPython.core.display.Markdown object>"
      ]
     },
     "metadata": {},
     "output_type": "display_data"
    },
    {
     "data": {
      "text/markdown": [
       "There are a multitude of songs that could be sung with this hymn – Michael W. Smith’s “Agnus Dei,” Chris Tomlin’s “Holy is the Lord,” or the great hymn “All Creatures of our God and King” are just some examples."
      ],
      "text/plain": [
       "<IPython.core.display.Markdown object>"
      ]
     },
     "metadata": {},
     "output_type": "display_data"
    },
    {
     "data": {
      "text/markdown": [
       "There are a number of organ/piano accompaniments and arrangements to choose from – here are a few suggestions:\r\n",
       "\n",
       "<ul>\n",
       "<li><a href=\"http://www.hymnary.org/node/15681\">The Coral Ridge Festival-Hymn Collection Vol I</a> (Organ)</li>\n",
       "<li>Hayes, Mark. <a href=\"http://www.hymnary.org/node/19628\">Hymn Harmonizations  by Hayes(Creative accompaniments for the church pianist)</a> </li>\n",
       "<li>Hopson, Hal H. <a href=\"http://www.hymnary.org/node/9803\">The Creative Use of the Piano in Worship</a>. Hope 8392</li>\n",
       "<li>Ferguson,John. <a href=\"http://www.hymnary.org/node/24540\">Festival Hymns for Organ, Brass, and Timpani-Set 3</a></li>\n",
       "</ul>"
      ],
      "text/plain": [
       "<IPython.core.display.Markdown object>"
      ]
     },
     "metadata": {},
     "output_type": "display_data"
    },
    {
     "data": {
      "text/markdown": [
       "Laura de Jong,"
      ],
      "text/plain": [
       "<IPython.core.display.Markdown object>"
      ]
     },
     "metadata": {},
     "output_type": "display_data"
    },
    {
     "data": {
      "text/markdown": [
       "FlexScores are available in the \n",
       "<a href=\"#media\">Media</a>\n",
       " section below."
      ],
      "text/plain": [
       "<IPython.core.display.Markdown object>"
      ]
     },
     "metadata": {},
     "output_type": "display_data"
    },
    {
     "data": {
      "text/markdown": [
       "A separate copy of this score must be purchased for each choir member. If this score will be projected or included in a bulletin, usage must be reported to a licensing agent (e.g. CCLI, OneLicense, etc)."
      ],
      "text/plain": [
       "<IPython.core.display.Markdown object>"
      ]
     },
     "metadata": {},
     "output_type": "display_data"
    },
    {
     "data": {
      "text/markdown": [
       "<small><a href=\"/info/advertisements.html\">Advertisements</a></small>"
      ],
      "text/plain": [
       "<IPython.core.display.Markdown object>"
      ]
     },
     "metadata": {},
     "output_type": "display_data"
    },
    {
     "data": {
      "text/markdown": [
       "<small><a href=\"/info/advertisements.html\">Advertisements</a></small>"
      ],
      "text/plain": [
       "<IPython.core.display.Markdown object>"
      ]
     },
     "metadata": {},
     "output_type": "display_data"
    },
    {
     "name": "stdout",
     "output_type": "stream",
     "text": [
      "https://www.hymnal.net/en/hymn/h/806\n",
      "https://www.youtube.com/watch?v=NQpj4TSe-Ec\n",
      "https://hymnary.org/text/break_thou_the_bread_of_life\n"
     ]
    },
    {
     "data": {
      "text/markdown": [
       "1 Break now the bread of life, dear Lord, to me, \n",
       "\n",
       "\r\n",
       "as once you broke the loaves beside the sea. \n",
       "\n",
       "\r\n",
       "Beyond the sacred page I seek you, Lord; \n",
       "\n",
       "\r\n",
       "my spirit waits for you, O living Word. \n"
      ],
      "text/plain": [
       "<IPython.core.display.Markdown object>"
      ]
     },
     "metadata": {},
     "output_type": "display_data"
    },
    {
     "data": {
      "text/markdown": [
       "2 Bless your own word of truth, dear Lord, to me, \n",
       "\n",
       "\r\n",
       "as when you blessed the bread by Galilee. \n",
       "\n",
       "\r\n",
       "Then shall all bondage cease, all fetters fall; \n",
       "\n",
       "\r\n",
       "and I shall find my peace, my All in all! \n"
      ],
      "text/plain": [
       "<IPython.core.display.Markdown object>"
      ]
     },
     "metadata": {},
     "output_type": "display_data"
    },
    {
     "data": {
      "text/markdown": [
       "3 You are the bread of life, dear Lord, to me, \n",
       "\n",
       "\r\n",
       "your holy word the truth that rescues me. \n",
       "\n",
       "\r\n",
       "Give me to eat and live with you above; \n",
       "\n",
       "\r\n",
       "teach me to love your truth, for you are love. \n"
      ],
      "text/plain": [
       "<IPython.core.display.Markdown object>"
      ]
     },
     "metadata": {},
     "output_type": "display_data"
    },
    {
     "data": {
      "text/markdown": [
       "4 O send your Spirit now, dear Lord, to me, \n",
       "\n",
       "\r\n",
       "that he may touch my eyes and make me see. \n",
       "\n",
       "\r\n",
       "Show me the truth made plain within your Word, \n",
       "\n",
       "\r\n",
       "for in your book revealed I see you, Lord. \n"
      ],
      "text/plain": [
       "<IPython.core.display.Markdown object>"
      ]
     },
     "metadata": {},
     "output_type": "display_data"
    },
    {
     "data": {
      "text/markdown": [
       "Psalter Hymnal, 1987"
      ],
      "text/plain": [
       "<IPython.core.display.Markdown object>"
      ]
     },
     "metadata": {},
     "output_type": "display_data"
    },
    {
     "data": {
      "text/markdown": [
       "Scripture References:\n",
       "\n",
       "\n",
       "st. 1-2 = Matt. 14:13-21\n",
       "\n",
       "\n",
       "st. 3\t= John 6:33-35\n",
       "\n",
       "\n",
       "st. 4\t= Matt. 9:27-30, Matt. 20:30-34"
      ],
      "text/plain": [
       "<IPython.core.display.Markdown object>"
      ]
     },
     "metadata": {},
     "output_type": "display_data"
    },
    {
     "data": {
      "text/markdown": [
       "Mary A. Lathbury (b. Manchester, NY, 1841; d. East Orange, 1913) is known primarily for two hymns: this one (originally \"Break Thou the Bread of Life\") and \"Day Is Dying in the West.\" She wrote both at the request of Bishop John H. Vincent for use in the services of the Chautauqua Assembly, well-known in the late nineteenth and early twentieth centuries as a conference center that offered a rich fare of Bible study, Sunday school teaching methods, concerts, and plays. Vincent, the secretary of the Methodist Sunday School Union, founded the Chautauqua Institution on Chautauqua Lake in upper New York State in an effort to educate Sunday school teachers. An assistant to Vincent at the camp, Lathbury was also a well-known writer, editor, and illustrator of children's books. Her literary skills earned her the nickname \"Poet Laureate of Chautauqua.\""
      ],
      "text/plain": [
       "<IPython.core.display.Markdown object>"
      ]
     },
     "metadata": {},
     "output_type": "display_data"
    },
    {
     "data": {
      "text/markdown": [
       "Lathbury wrote stanzas 1 and 2 in 1877; they were first published in \n",
       "<em>Chautauqua Carols</em>\n",
       " (1878). Alexander Groves (b. Newport, Isle of Wight, England, 1842; d. Henleyon-Thames, Oxfordshire, England, 1909) added stanzas 3 and 4 later, and they were first published in the \n",
       "<em>Wesleyan Methodist Magazine</em>\n",
       " (London, Sept. 1913). Groves's career included being a grocer and accountant as well as a trustee, auditor, and actuary for the Henley Savings Bank. He served as organist of the Henley Wesleyan Chapel but later in life became a member of the Anglican Church in Henley."
      ],
      "text/plain": [
       "<IPython.core.display.Markdown object>"
      ]
     },
     "metadata": {},
     "output_type": "display_data"
    },
    {
     "data": {
      "text/markdown": [
       "Some expressions in \"Break Now the Bread of Life\" may not satisfy everyone in the Reformed community, but these verses were not written to define doctrine in sharp detail. They were intended to be used as a simple prayer for illumination for Bible study groups and in the meetings of the Chautauqua Literary and Scientific Circle. Tradition also calls for the hymn's use during Sunday-evening vespers at the Lake Chautauqua' assembly grounds."
      ],
      "text/plain": [
       "<IPython.core.display.Markdown object>"
      ]
     },
     "metadata": {},
     "output_type": "display_data"
    },
    {
     "data": {
      "text/markdown": [
       "The hymn text draws on biblical images to depict Scripture's role in our lives. Stanzas 1 and 2 recall the breaking and the blessing of the bread at Jesus' feeding of the five thousand. Stanza 3 confesses Christ as the bread of life. Stanza 4 calls for the Spirit's presence and alludes to Christ's healings of various blind people."
      ],
      "text/plain": [
       "<IPython.core.display.Markdown object>"
      ]
     },
     "metadata": {},
     "output_type": "display_data"
    },
    {
     "data": {
      "text/markdown": [
       "Liturgical Use:\n",
       "\n",
       "\n",
       "A simple prayer for illumination; vespers. (Though it uses the \"bread of life\" image, this is not ordinarily a hymn for the Lord's Supper.)"
      ],
      "text/plain": [
       "<IPython.core.display.Markdown object>"
      ]
     },
     "metadata": {},
     "output_type": "display_data"
    },
    {
     "data": {
      "text/markdown": [
       "--\n",
       "<cite>Psalter Hymnal Handbook</cite>"
      ],
      "text/plain": [
       "<IPython.core.display.Markdown object>"
      ]
     },
     "metadata": {},
     "output_type": "display_data"
    },
    {
     "data": {
      "text/markdown": [
       "<a href=\"/tune/break_thou_the_bread_of_life_sherwin\">Go to tune page &gt;</a>"
      ],
      "text/plain": [
       "<IPython.core.display.Markdown object>"
      ]
     },
     "metadata": {},
     "output_type": "display_data"
    },
    {
     "data": {
      "text/markdown": [
       "The words to this hymn were authored by Mary Lathbury, who often wrote hymns to accompany various parts of the Bible. Eventually known as the “Poet of Chautauqua,” Lathbury was seen as a kind and gentle Christian soul whose creativity was immense. “Break Now the Bread of Life,” is one of her two most widely known hymns. Many have been misled in thinking that this hymn is a reference to the Lord’s Supper, when it is actually centered upon studying God’s word. This hymn can be seen in reference to John 6:35 which reads, “And Jesus said unto them, I am the bread of life: he that cometh to me shall never hunger; and he that believeth in me shall never thirst.” In some hymnals, the third and fourth stanzas are omitted and the text is modernized."
      ],
      "text/plain": [
       "<IPython.core.display.Markdown object>"
      ]
     },
     "metadata": {},
     "output_type": "display_data"
    },
    {
     "data": {
      "text/markdown": [
       "The tune most commonly sung for this hymn is BREAD OF LIFE, specifically written for the text by William F. Sherwin in 1877.  The notes are both gentle and reassuring, complimenting Mary Lathbury’s lyrics, and allowing the singer to focus on each word of the hymn. It is a slow, flowing tune, but uplifting nonetheless."
      ],
      "text/plain": [
       "<IPython.core.display.Markdown object>"
      ]
     },
     "metadata": {},
     "output_type": "display_data"
    },
    {
     "data": {
      "text/markdown": [
       "Suggested music for this hymn:"
      ],
      "text/plain": [
       "<IPython.core.display.Markdown object>"
      ]
     },
     "metadata": {},
     "output_type": "display_data"
    },
    {
     "data": {
      "text/markdown": [
       "Luke Getz"
      ],
      "text/plain": [
       "<IPython.core.display.Markdown object>"
      ]
     },
     "metadata": {},
     "output_type": "display_data"
    },
    {
     "data": {
      "text/markdown": [
       "FlexScores are available in the \n",
       "<a href=\"#media\">Media</a>\n",
       " section below."
      ],
      "text/plain": [
       "<IPython.core.display.Markdown object>"
      ]
     },
     "metadata": {},
     "output_type": "display_data"
    },
    {
     "data": {
      "text/markdown": [
       "A separate copy of this score must be purchased for each choir member. If this score will be projected or included in a bulletin, usage must be reported to a licensing agent (e.g. CCLI, OneLicense, etc)."
      ],
      "text/plain": [
       "<IPython.core.display.Markdown object>"
      ]
     },
     "metadata": {},
     "output_type": "display_data"
    },
    {
     "data": {
      "text/markdown": [
       "<small><a href=\"/info/advertisements.html\">Advertisements</a></small>"
      ],
      "text/plain": [
       "<IPython.core.display.Markdown object>"
      ]
     },
     "metadata": {},
     "output_type": "display_data"
    },
    {
     "data": {
      "text/markdown": [
       "<small><a href=\"/info/advertisements.html\">Advertisements</a></small>"
      ],
      "text/plain": [
       "<IPython.core.display.Markdown object>"
      ]
     },
     "metadata": {},
     "output_type": "display_data"
    }
   ],
   "source": [
    "for hymn_number in HYMN_NUMBERS:\n",
    "    url = get_hymnal_url(title=HYMN_TITLES[hymn_number] + ' hymn')\n",
    "    text = get_hymn_lyrics(site='hymnal', url=url)"
   ]
  },
  {
   "cell_type": "code",
   "execution_count": null,
   "metadata": {},
   "outputs": [],
   "source": []
  }
 ],
 "metadata": {
  "kernelspec": {
   "display_name": "Python 3",
   "language": "python",
   "name": "python3"
  },
  "language_info": {
   "codemirror_mode": {
    "name": "ipython",
    "version": 3
   },
   "file_extension": ".py",
   "mimetype": "text/x-python",
   "name": "python",
   "nbconvert_exporter": "python",
   "pygments_lexer": "ipython3",
   "version": "3.6.5"
  }
 },
 "nbformat": 4,
 "nbformat_minor": 2
}
