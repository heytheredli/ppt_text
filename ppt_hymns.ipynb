{
 "cells": [
  {
   "cell_type": "code",
   "execution_count": 126,
   "metadata": {},
   "outputs": [],
   "source": [
    "import requests\n",
    "import urllib.request\n",
    "import time\n",
    "from bs4 import BeautifulSoup\n",
    "\n",
    "def get_hymn_lyrics(hymn_number, title):\n",
    "    url = f'https://hymnary.org/hymn/HOLC1986/{hymn_number}'\n",
    "    response = requests.get(url)\n",
    "    soup = BeautifulSoup(response.text, \"html.parser\")\n",
    "    title_appear = False\n",
    "    \n",
    "    for item in soup.findAll('p'):\n",
    "        text = ''\n",
    "        for i in item.contents:\n",
    "            try:\n",
    "                text += str(i)\n",
    "            except:\n",
    "                pass\n",
    "        if title.lower() in text.lower():\n",
    "            title_appear = True\n",
    "        if title_appear:\n",
    "            text = ''\n",
    "            for i in item.contents:\n",
    "                try:\n",
    "                    text += str(i)\n",
    "                except:\n",
    "                    pass\n",
    "            print(text.replace('<br/>', ''))\n",
    "    \n",
    "    "
   ]
  },
  {
   "cell_type": "code",
   "execution_count": 128,
   "metadata": {},
   "outputs": [
    {
     "name": "stdout",
     "output_type": "stream",
     "text": [
      "求主來臨近我，與我在一起，愛護我，親近我，永遠不分離。\n",
      "求主賜福孩童，常關懷看顧，讓我們在天家與耶穌同住。\n",
      "[ Away In A Manger ]\n",
      "Away in a manger, no crib for his bed,\n",
      "The little Lord Jesus laid down his sweet head;\n",
      "The stars in the bright sky looked down where he lay,\n",
      "The little Lord Jesus asleep in the hay.\n",
      "The cattle are lowing, the baby awakes;\n",
      "But little Lord Jesus no crying he makes.\n",
      "I love you, Lord Jesus; look down from the sky,\n",
      "And stay by my side until morning is nigh.\n",
      "Be near me, Lord Jesus; I ask you to stay\n",
      "Close by me forever, and love me, I pray.\n",
      "Bless all the dear children in your tender care,\n",
      "And fit us for heaven to live with you there.\n",
      "\n",
      "<small><a href=\"/info/advertisements.html\">Advertisements</a></small>\n",
      "<small><a href=\"/info/advertisements.html\">Advertisements</a></small>\n"
     ]
    }
   ],
   "source": [
    "get_hymn_lyrics(100, 'away in a manger')"
   ]
  },
  {
   "cell_type": "code",
   "execution_count": null,
   "metadata": {},
   "outputs": [],
   "source": []
  }
 ],
 "metadata": {
  "kernelspec": {
   "display_name": "Python 3",
   "language": "python",
   "name": "python3"
  },
  "language_info": {
   "codemirror_mode": {
    "name": "ipython",
    "version": 3
   },
   "file_extension": ".py",
   "mimetype": "text/x-python",
   "name": "python",
   "nbconvert_exporter": "python",
   "pygments_lexer": "ipython3",
   "version": "3.6.5"
  }
 },
 "nbformat": 4,
 "nbformat_minor": 2
}
