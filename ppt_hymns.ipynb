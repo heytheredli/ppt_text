{
 "cells": [
  {
   "cell_type": "markdown",
   "metadata": {},
   "source": [
    "# This is a notebook for searching for hymn lyrics for church\n",
    "\n",
    "This notebook is designed for folks who are not familiar with English to be able to find hymn lyrics. The output will be lyrics that be pasted into powerpoint"
   ]
  },
  {
   "cell_type": "markdown",
   "metadata": {},
   "source": [
    "## Helper functions (run them, but don't change it)"
   ]
  },
  {
   "cell_type": "code",
   "execution_count": 1,
   "metadata": {},
   "outputs": [],
   "source": [
    "import requests\n",
    "import urllib.request\n",
    "import time\n",
    "from bs4 import BeautifulSoup\n",
    "from IPython.display import Markdown, display\n",
    "from googlesearch import search\n",
    "\n",
    "def printmd(string):\n",
    "    display(Markdown(string))\n",
    "    \n",
    "def get_hymnal_url(title):\n",
    "    for result in search(title, tld='com', lang='en', num=10, start=0, stop=50, pause=2.0):\n",
    "        print(result)\n",
    "        if 'hymnary' in result:\n",
    "            return result\n",
    "\n",
    "def get_hymn_lyrics(site, hymn_number=None, url=None):\n",
    "    if site == 'christian study':\n",
    "        if (hymn_number < 100) & (hymn_number >= 10):\n",
    "            hymn_number = f'0{hymn_number}'\n",
    "        elif (hymn_number < 10):\n",
    "            hymn_number = f'00{hymn_number}'\n",
    "        url = f'http://www.christianstudy.com/data/hymns/text/life{hymn_number}.html'\n",
    "        response = requests.get(url)\n",
    "        response.encoding = 'big5'\n",
    "        soup = BeautifulSoup(response.text, \"html.parser\")\n",
    "\n",
    "        for p in soup.findAll('p'):\n",
    "            lyrics = str(p.findAll('font'))\n",
    "            lyrics = lyrics.replace('<li>', '').replace('</li>', '')\n",
    "            lyrics = lyrics.replace('<ol>', '').replace('</ol>', '')\n",
    "            lyrics = lyrics.replace('<br/>', '')\n",
    "            lyrics = lyrics.replace('<font size=\"1\">', '').replace('</font>', '').replace('<font size=\"+2\">', '')\n",
    "            lyrics = lyrics.replace('[', '').replace(']', '').replace(',', '')\n",
    "            print(lyrics)\n",
    "    else:\n",
    "        response = requests.get(url)\n",
    "        soup = BeautifulSoup(response.text, \"html.parser\")\n",
    "\n",
    "        for item in soup.findAll('p'):\n",
    "            text = ''\n",
    "            for i in item.contents:\n",
    "                try:\n",
    "                    text += str(i) + '\\n'\n",
    "                except:\n",
    "                    pass\n",
    "            printmd(f\"{text.strip().replace('<br/>', '')}\")\n",
    "    \n",
    "\n",
    "\n",
    "    \n",
    "def get_hymn_titles(url=f'http://www.christianstudy.com/lifehymns.html'):\n",
    "    response = requests.get(url)\n",
    "    soup = BeautifulSoup(response.text, \"html.parser\")\n",
    "    hymn_titles = {}\n",
    "    for tr in soup.findAll('tr'):\n",
    "        for td in tr.findAll('td'):\n",
    "            try:\n",
    "                if (str(td.contents[0].split('.')[0]).isdigit()):\n",
    "                    for small in td.findAll('small'):\n",
    "                        temp_title = small.contents[0]\n",
    "                    hymn_titles[int(str(td.contents[0].split('.')[0]))] = temp_title\n",
    "            except Exception as e:\n",
    "                pass\n",
    "    return hymn_titles\n",
    "\n",
    "class color:\n",
    "   PURPLE = '\\033[95m'\n",
    "   CYAN = '\\033[96m'\n",
    "   DARKCYAN = '\\033[36m'\n",
    "   BLUE = '\\033[94m'\n",
    "   GREEN = '\\033[92m'\n",
    "   YELLOW = '\\033[93m'\n",
    "   RED = '\\033[91m'\n",
    "   BOLD = '\\033[1m'\n",
    "   UNDERLINE = '\\033[4m'\n",
    "   END = '\\033[0m'"
   ]
  },
  {
   "cell_type": "markdown",
   "metadata": {},
   "source": [
    "## Defining Global Variables (run it, but don't change it)"
   ]
  },
  {
   "cell_type": "code",
   "execution_count": 2,
   "metadata": {},
   "outputs": [],
   "source": [
    "HYMN_TITLES = get_hymn_titles()"
   ]
  },
  {
   "cell_type": "markdown",
   "metadata": {},
   "source": [
    "## Input hymn numbers (you'll need to input values here)"
   ]
  },
  {
   "cell_type": "code",
   "execution_count": 3,
   "metadata": {},
   "outputs": [
    {
     "name": "stdout",
     "output_type": "stream",
     "text": [
      "Enter hymn numbers from \"Hymns of Life (Chinese brown book)\" (e.g. 344, 5, 164): 427, 71, 320, 467\n"
     ]
    }
   ],
   "source": [
    "HYMN_NUMBERS = input('Enter hymn numbers from \"Hymns of Life (Chinese brown book)\" (e.g. 344, 5, 164): ')"
   ]
  },
  {
   "cell_type": "code",
   "execution_count": 4,
   "metadata": {},
   "outputs": [
    {
     "name": "stdout",
     "output_type": "stream",
     "text": [
      "[427, 71, 320, 467]\n"
     ]
    }
   ],
   "source": [
    "HYMN_NUMBERS = [int(x) for x in HYMN_NUMBERS.split(', ')]\n",
    "print(HYMN_NUMBERS)"
   ]
  },
  {
   "cell_type": "markdown",
   "metadata": {},
   "source": [
    "## Run this cell to get Chinese lyrics"
   ]
  },
  {
   "cell_type": "code",
   "execution_count": 5,
   "metadata": {},
   "outputs": [
    {
     "name": "stdout",
     "output_type": "stream",
     "text": [
      "<font color=\"#3333FF\" size=\"+3\">【禱告良辰】\n",
      "\n",
      "\n",
      "\n",
      "禱告良辰，何等歡欣，使我離開俗務紛紜，\n",
      "施恩座前與主親近，將我心事向主述陳。\n",
      "每逢心中痛苦憂愁，我靈得著安慰解救；\n",
      "脫離試探網羅圍困，皆因有此禱告良辰。\n",
      "禱告良辰，何等歡欣，如生兩翼向主飛昇，\n",
      "在主面前傾心吐意，主按真理信實垂聽，\n",
      "遵主命令尋求主面，信主言語靠主宏恩，\n",
      "一切掛慮全交託主，歡喜等候禱告良辰。\n",
      "\n",
      "\n",
      "\n",
      "<font color=\"#3333FF\" size=\"+3\">【救主的愛】\n",
      "\n",
      "\n",
      "\n",
      "拿撒勒人耶穌面前，我站立心便愕然；\n",
      "希奇祂也把我愛憐，我罪�v竟蒙赦免。\n",
      "\n",
      "主為我在園中懇求，但願父旨意成就；\n",
      "非為自己流淚擔憂，血汗點點為我流。\n",
      "\n",
      "祂擔當我罪孽苦愁，自己肩負不怨尤；\n",
      "為我走上加略山頭，獨自受死苦備受。\n",
      "\n",
      "得贖子民在榮耀中，一同朝見主聖容；\n",
      "高唱救主恩愛豐滿，歡欣快樂世無窮。\n",
      "\n",
      "副歌：何等希奇，何等奧妙，主慈愛竟臨到我，\n",
      "　　　何等希奇，何等奧妙，我要永遠唱此歌。\n",
      "   \n",
      "\n",
      "\n",
      "<font color=\"#3333FF\" size=\"+3\">【慈光引領】\n",
      "\n",
      "\n",
      "\n",
      "黑暗之中，懇求慈光引領，導我前行！\n",
      "黑夜漫漫，我又遠離家庭，導我前行！\n",
      "我不求知前路是何情景，\n",
      "只懇求主一步一步引領。\n",
      "\n",
      "我前未曾向主虛心懇求：導我前行！\n",
      "昨行己路，但今向主懇求，導我前行！\n",
      "從前我愛沉溺繁華享受，\n",
      "驕縱無忌，求主既往不究。\n",
      "\n",
      "常蒙引導，深信主仍引領，導我前行！\n",
      "經過荒山，經過曠野，洪流，導我前行！\n",
      "雖曾暫別我心所愛笑臉，\n",
      "晨曦光中，如今再得垂逢。阿們。\n",
      "\n",
      "  \n",
      "\n",
      "\n",
      "<font color=\"#3333FF\" size=\"+3\">【救主犧牲的愛】\n",
      "\n",
      "\n",
      "<font color=\"#3333FF\">\n",
      "\n",
      "救主犧牲的愛已賜給我，我不願為自己存留甚麼；\n",
      "主愛使我景仰，我將心願還償，今將供物獻上，願主悅納。\n",
      "主在施恩座前為我祈求，我信心雖軟弱，望主扶佑；\n",
      "助我背上十架，將主妙愛傳揚，敬獻禱告歌唱，願主悅納。\n",
      "賜我虔誠的心，像主忠堅，每一天消逝前有所表現，\n",
      "開展仁愛工作，喜愛行善扶弱，領人歸入天國，願主悅納。\n",
      "今生所有一切皆主所賜，願終身勤為主，苦樂不辭；\n",
      "當我面對父神，獻我被贖靈魂，直到永世無盡，願主悅納。\n",
      "\n",
      " <font color=\"#3333FF\">   \n",
      "\n"
     ]
    }
   ],
   "source": [
    "for hymn_number in HYMN_NUMBERS:\n",
    "    get_hymn_lyrics(site='christian study', hymn_number=hymn_number)"
   ]
  },
  {
   "cell_type": "markdown",
   "metadata": {},
   "source": [
    "## Run this cell to get English lyrics"
   ]
  },
  {
   "cell_type": "code",
   "execution_count": 6,
   "metadata": {
    "scrolled": false
   },
   "outputs": [
    {
     "name": "stdout",
     "output_type": "stream",
     "text": [
      "\u001b[1m427: Sweet hour of Prayer!\u001b[0m\n",
      "https://www.youtube.com/watch?v=xg282my5QyU\n",
      "https://library.timelesstruths.org/music/Sweet_Hour_of_Prayer/\n",
      "https://hymnary.org/text/sweet_hour_of_prayer_sweet_hour_of_pray\n"
     ]
    },
    {
     "data": {
      "text/markdown": [
       "1 Sweet hour of prayer! sweet hour of prayer! \n",
       "\n",
       "\r\n",
       "that calls me from a world of care, \n",
       "\n",
       "\r\n",
       "and bids me at my Father's throne \n",
       "\n",
       "\r\n",
       "make all my wants and wishes known. \n",
       "\n",
       "\r\n",
       "In seasons of distress and grief, \n",
       "\n",
       "\r\n",
       "my soul has often found relief, \n",
       "\n",
       "\r\n",
       "and oft escaped the tempter's snare \n",
       "\n",
       "\r\n",
       "by thy return, sweet hour of prayer! \n"
      ],
      "text/plain": [
       "<IPython.core.display.Markdown object>"
      ]
     },
     "metadata": {},
     "output_type": "display_data"
    },
    {
     "data": {
      "text/markdown": [
       "2 Sweet hour of prayer! sweet hour of prayer! \n",
       "\n",
       "\r\n",
       "the joys I feel, the bliss I share \n",
       "\n",
       "\r\n",
       "of those whose anxious spirits burn \n",
       "\n",
       "\r\n",
       "with strong desires for thy return! \n",
       "\n",
       "\r\n",
       "With such I hasten to the place \n",
       "\n",
       "\r\n",
       "where God my Savior shows his face, \n",
       "\n",
       "\r\n",
       "and gladly take my station there, \n",
       "\n",
       "\r\n",
       "and wait for thee, sweet hour of prayer! \n"
      ],
      "text/plain": [
       "<IPython.core.display.Markdown object>"
      ]
     },
     "metadata": {},
     "output_type": "display_data"
    },
    {
     "data": {
      "text/markdown": [
       "3 Sweet hour of prayer! sweet hour of prayer! \n",
       "\n",
       "\r\n",
       "thy wings shall my petition bear \n",
       "\n",
       "\r\n",
       "to him whose truth and faithfulness \n",
       "\n",
       "\r\n",
       "engage the waiting soul to bless. \n",
       "\n",
       "\r\n",
       "And since he bids me seek his face, \n",
       "\n",
       "\r\n",
       "believe his word, and trust his grace, \n",
       "\n",
       "\r\n",
       "I'll cast on him my every care, \n",
       "\n",
       "\r\n",
       "and wait for thee, sweet hour of prayer! \n"
      ],
      "text/plain": [
       "<IPython.core.display.Markdown object>"
      ]
     },
     "metadata": {},
     "output_type": "display_data"
    },
    {
     "data": {
      "text/markdown": [
       "United Methodist Hymnal, 1989"
      ],
      "text/plain": [
       "<IPython.core.display.Markdown object>"
      ]
     },
     "metadata": {},
     "output_type": "display_data"
    },
    {
     "data": {
      "text/markdown": [
       "<strong>Sweet hour of prayer, sweet hour of prayer</strong>\n",
       ". W. W. Walford. [\n",
       "<em>Prayer</em>\n",
       ".] In Nutter's \n",
       "<em>Hymn Studies</em>\n",
       ", N. Y., 1884, the note to this hymn is \"Mr. Butterworth, in his \n",
       "<em>Story of the Hymns</em>\n",
       ", says, 'This hymn was written by Rev. Mr. Walford, an English blind preacher, and was given to the public in 1849.'\" Beyond this we have no information except that the hymn is in several American collections, including the Meth. Episcopal \n",
       "<em>Hymnal</em>\n",
       ", 1878, and that the original consists of 4 stanzas of 8 lines. This hymn is given on p. 1204, ii. 52, as by Mrs. Van Alstyne, in error."
      ],
      "text/plain": [
       "<IPython.core.display.Markdown object>"
      ]
     },
     "metadata": {},
     "output_type": "display_data"
    },
    {
     "data": {
      "text/markdown": [
       "--John Julian, \n",
       "<em>Dictionary of Hymnology, Appendix, Part II</em>\n",
       "  (1907)"
      ],
      "text/plain": [
       "<IPython.core.display.Markdown object>"
      ]
     },
     "metadata": {},
     "output_type": "display_data"
    },
    {
     "data": {
      "text/markdown": [
       "The author of this hymn is not known for certain.  The text is often attributed to a man named W. W. Walford on the basis of an account in the \n",
       "<em>New York Observer</em>\n",
       " by Thomas Salmon in 1845, where the text was first published.  This Walford was a blind, uneducated English preacher who had committed huge portions of the Bible to memory.  Salmon would have met him between 1838 and 1842 while serving as pastor of a church in Coleshill, England.  However, hymnologists have encountered problems in substantiating Walford's identity through church records, and some attribute the hymn to William Walford of Homerton, England, an educated Congregational minister, who was not blind.  Traditionally, however, the hymn has been attributed to the blind preacher."
      ],
      "text/plain": [
       "<IPython.core.display.Markdown object>"
      ]
     },
     "metadata": {},
     "output_type": "display_data"
    },
    {
     "data": {
      "text/markdown": [
       "The theme of the text is the joy of spending time in communion with God through prayer.  The text has four stanzas, though sometimes the second (“The joys I feel, the bliss I share”) or the fourth (“May I thy consolation share”) is omitted."
      ],
      "text/plain": [
       "<IPython.core.display.Markdown object>"
      ]
     },
     "metadata": {},
     "output_type": "display_data"
    },
    {
     "data": {
      "text/markdown": [
       "William Bradbury composed SWEET HOUR for this text in 1861 and published it in his \n",
       "<cite>Golden Chain.</cite>\n",
       "  The tune was named after the text and is the only tune to which this hymn is sung.  The tempo should not drag, and the accompaniment should be soft."
      ],
      "text/plain": [
       "<IPython.core.display.Markdown object>"
      ]
     },
     "metadata": {},
     "output_type": "display_data"
    },
    {
     "data": {
      "text/markdown": [
       "This hymn may be used before pastoral or congregational prayer as a time of preparation, as a congregational hymn or an instrumental setting.  A short and simple setting of “Sweet Hour of Prayer” is found in the \n",
       "<a href=\"http://www.hymnary.org/node/19554\">“Easy Organ Library, Vol. 50.”</a>\n",
       "  Another easy version of \n",
       "<a href=\"http://www.hymnary.org/node/26207\"> “Sweet Hour of Prayer”</a>\n",
       "  is for handbells and optional handchimes and is suitable for children’s handbell choirs.  It opens by “ringing the hour” like a clock chime.  Another instrumental ensemble that fits the mood of \n",
       "<a href=\"http://www.hymnary.org/node/14295 \">“Sweet Hour of Prayer”</a>\n",
       " is a string quartet; this arrangement offers the option of substituting a third violin for the viola part."
      ],
      "text/plain": [
       "<IPython.core.display.Markdown object>"
      ]
     },
     "metadata": {},
     "output_type": "display_data"
    },
    {
     "data": {
      "text/markdown": [
       "Tiffany Shomsky,"
      ],
      "text/plain": [
       "<IPython.core.display.Markdown object>"
      ]
     },
     "metadata": {},
     "output_type": "display_data"
    },
    {
     "data": {
      "text/markdown": [
       "FlexScores are available in the \n",
       "<a href=\"#media\">Media</a>\n",
       " section below."
      ],
      "text/plain": [
       "<IPython.core.display.Markdown object>"
      ]
     },
     "metadata": {},
     "output_type": "display_data"
    },
    {
     "data": {
      "text/markdown": [
       "A separate copy of this score must be purchased for each choir member. If this score will be projected or included in a bulletin, usage must be reported to a licensing agent (e.g. CCLI, OneLicense, etc)."
      ],
      "text/plain": [
       "<IPython.core.display.Markdown object>"
      ]
     },
     "metadata": {},
     "output_type": "display_data"
    },
    {
     "data": {
      "text/markdown": [
       "<small><a href=\"/info/advertisements.html\">Advertisements</a></small>"
      ],
      "text/plain": [
       "<IPython.core.display.Markdown object>"
      ]
     },
     "metadata": {},
     "output_type": "display_data"
    },
    {
     "data": {
      "text/markdown": [
       "<small><a href=\"/info/advertisements.html\">Advertisements</a></small>"
      ],
      "text/plain": [
       "<IPython.core.display.Markdown object>"
      ]
     },
     "metadata": {},
     "output_type": "display_data"
    },
    {
     "name": "stdout",
     "output_type": "stream",
     "text": [
      "\u001b[1m71: My Saviour's Love\u001b[0m\n",
      "https://www.youtube.com/watch?v=RX8D8UfJLn4\n",
      "https://www.youtube.com/watch?v=DzTNwZByeqA\n",
      "https://hymnary.org/text/i_stand_amazed_in_the_presence\n"
     ]
    },
    {
     "data": {
      "text/markdown": [
       "1 I stand amazed in the presence\n",
       "\n",
       "\r\n",
       "of Jesus, the Nazarene,\n",
       "\n",
       "\r\n",
       "and wonder how he could love me,\n",
       "\n",
       "\r\n",
       "a sinner, condemned, unclean.\n"
      ],
      "text/plain": [
       "<IPython.core.display.Markdown object>"
      ]
     },
     "metadata": {},
     "output_type": "display_data"
    },
    {
     "data": {
      "text/markdown": [
       "Refrain:\n",
       "\n",
       "\r\n",
       "How marvelous, how wonderful!\n",
       "\n",
       "\r\n",
       "And my song shall ever be:\n",
       "\n",
       "\r\n",
       "How marvelous, how wonderful\n",
       "\n",
       "\r\n",
       "is my Savior’s love for me!\n"
      ],
      "text/plain": [
       "<IPython.core.display.Markdown object>"
      ]
     },
     "metadata": {},
     "output_type": "display_data"
    },
    {
     "data": {
      "text/markdown": [
       "2 He took my sins and my sorrows;\n",
       "\n",
       "\r\n",
       "he made them his very own;\n",
       "\n",
       "\r\n",
       "he bore the burden to Calvary\n",
       "\n",
       "\r\n",
       "and suffered and died alone. [Refrain]\n"
      ],
      "text/plain": [
       "<IPython.core.display.Markdown object>"
      ]
     },
     "metadata": {},
     "output_type": "display_data"
    },
    {
     "data": {
      "text/markdown": [
       "3 When with the ransomed in glory\n",
       "\n",
       "\r\n",
       "his face I at last shall see,\n",
       "\n",
       "\r\n",
       "’twill be my joy through the ages\n",
       "\n",
       "\r\n",
       "to sing of his love for me. [Refrain]\n"
      ],
      "text/plain": [
       "<IPython.core.display.Markdown object>"
      ]
     },
     "metadata": {},
     "output_type": "display_data"
    },
    {
     "data": {
      "text/markdown": [
       "\n",
       "\n",
       "Source: \n",
       "<a href=\"/hymn/LUYH2013/174\">Lift Up Your Hearts: psalms, hymns, and spiritual songs #174</a>"
      ],
      "text/plain": [
       "<IPython.core.display.Markdown object>"
      ]
     },
     "metadata": {},
     "output_type": "display_data"
    },
    {
     "data": {
      "text/markdown": [
       "A separate copy of this score must be purchased for each choir member. If this score will be projected or included in a bulletin, usage must be reported to a licensing agent (e.g. CCLI, OneLicense, etc)."
      ],
      "text/plain": [
       "<IPython.core.display.Markdown object>"
      ]
     },
     "metadata": {},
     "output_type": "display_data"
    },
    {
     "data": {
      "text/markdown": [
       "<small><a href=\"/info/advertisements.html\">Advertisements</a></small>"
      ],
      "text/plain": [
       "<IPython.core.display.Markdown object>"
      ]
     },
     "metadata": {},
     "output_type": "display_data"
    },
    {
     "data": {
      "text/markdown": [
       "<small><a href=\"/info/advertisements.html\">Advertisements</a></small>"
      ],
      "text/plain": [
       "<IPython.core.display.Markdown object>"
      ]
     },
     "metadata": {},
     "output_type": "display_data"
    },
    {
     "name": "stdout",
     "output_type": "stream",
     "text": [
      "\u001b[1m320: Lead, Kindly Light\u001b[0m\n",
      "https://ww103.elgolfantasma.com/lead-kindly-light-lyrics.html\n",
      "https://en.wikipedia.org/wiki/Lead,_Kindly_Light\n",
      "https://www.lds.org/music/library/hymns/lead-kindly-light\n",
      "https://www.lds.org/music/text/hymns/lead-kindly-light\n",
      "https://www.youtube.com/watch?v=PnIYLEXHeFk\n",
      "https://hymnary.org/text/lead_kindly_light_amid_the_encircling_gl\n"
     ]
    },
    {
     "data": {
      "text/markdown": [
       "Refrain:\n",
       "\n",
       "\r\n",
       "Lead, kindly Light, amid the gloom of evening.\n",
       "\n",
       "\r\n",
       "Lord, lead  me on! Lord, lead me on!\n",
       "\n",
       "\r\n",
       "On through the night! On to your radiance!\n",
       "\n",
       "\r\n",
       "Lead, kindly Light!\n",
       "\n",
       "\r\n",
       "Lead, kindly Light, kindly Light!\n"
      ],
      "text/plain": [
       "<IPython.core.display.Markdown object>"
      ]
     },
     "metadata": {},
     "output_type": "display_data"
    },
    {
     "data": {
      "text/markdown": [
       "1 The night is dark, and I am far from home,\n",
       "\n",
       "\r\n",
       "Direct my feet; I do not ask to see\n",
       "\n",
       "\r\n",
       "The distant scene; one step enough for me.\n",
       "\n",
       "\r\n",
       "So lead me onward, Lord, and hear my plea. [Refrain]\n"
      ],
      "text/plain": [
       "<IPython.core.display.Markdown object>"
      ]
     },
     "metadata": {},
     "output_type": "display_data"
    },
    {
     "data": {
      "text/markdown": [
       "2 Not always thus, I seldom looked for you,\n",
       "\n",
       "\r\n",
       "I loved to choose and seek my path alone.\n",
       "\n",
       "\r\n",
       "In spite of fear, my pride controlled my will,\n",
       "\n",
       "\r\n",
       "Remember not my past, but lead me still. [Refrain]\n"
      ],
      "text/plain": [
       "<IPython.core.display.Markdown object>"
      ]
     },
     "metadata": {},
     "output_type": "display_data"
    },
    {
     "data": {
      "text/markdown": [
       "3 So long your pow'r has blest me on the way,\n",
       "\n",
       "\r\n",
       "And still it leads, past hill and storm and night!\n",
       "\n",
       "\r\n",
       "And with the morn, those angel faces smile,\n",
       "\n",
       "\r\n",
       "Which I have loved long since, and lost a while. [Refrain]\n",
       "\n",
       "\n",
       "\n",
       "\n",
       "\n",
       "Source: \n",
       "<a href=\"/hymn/OIF2014/770\">One in Faith #770</a>"
      ],
      "text/plain": [
       "<IPython.core.display.Markdown object>"
      ]
     },
     "metadata": {},
     "output_type": "display_data"
    },
    {
     "data": {
      "text/markdown": [
       "<strong>Lead, kindly Light, amid the encircling gloom</strong>\n",
       ". Cardinal J. H. Newman. [\n",
       "<em>Evening. Divine Guidance Desired</em>\n",
       ".] This exquisite lyric has been the cause of much controversy, arising from the facts that, first, the statement has been made that it was the passionate outpouring of the author's soul when perplexed with doubt as to his duty with regard to entering the Roman Communion or no; and the second, that the closing lines—"
      ],
      "text/plain": [
       "<IPython.core.display.Markdown object>"
      ]
     },
     "metadata": {},
     "output_type": "display_data"
    },
    {
     "data": {
      "text/markdown": [
       "“And with the morn those angel faces smile,\n",
       "\n",
       "\n",
       "Which I have loved long since and lost awhile,”"
      ],
      "text/plain": [
       "<IPython.core.display.Markdown object>"
      ]
     },
     "metadata": {},
     "output_type": "display_data"
    },
    {
     "data": {
      "text/markdown": [
       "through their ambiguity, have led to several ingenious interpretations, some of which appeared in \n",
       "<em>Notes and Queries</em>\n",
       " in 1880. The answer to each of these statements must be given, as far as possible, in Cardinal Newman's own words.\n",
       "\n",
       "\n",
       "i. Cardinal Newman, in his \n",
       "<em>Apologia Pro Vita Sua</em>\n",
       ", 1864, pp. 94-100, sets forth his attitude at the time this lyric was written, both towards the Church of England and the Church of Rome, in a most careful and laborate manner. His statements, in a condensed form, but in his own words, are:—"
      ],
      "text/plain": [
       "<IPython.core.display.Markdown object>"
      ]
     },
     "metadata": {},
     "output_type": "display_data"
    },
    {
     "data": {
      "text/markdown": [
       "While I was engaged in writing my work on the Arians [1832], great events were happening at home and abroad, which brought out into form and passionate expression the various beliefs which had so gradually been winning their way into my mind. Shortly before, there had been a Revolution in France; the Bourbons had been dismissed: and 1 believed that it was unchristian for nations to cast off their governors, and, much more, sovereigns who had the divine right of inheritance. Again, the great Reform Agitation was going on around me as I wrote. The Whigs had come into power; Lord Grey had told the Bishops to set their house in order, and some of the Prelates had been insulted and threatened in the streets of London. The vital question was how were we to keep the Church from being liberalized? There was such apathy on the subject in some quarters, such imbecile alarm in others; the true principles of Churchmanship seemed so radically decayed, and there were such distractions in the Councils of the Clergy......With the Establishment thus divided and threatened, thus ignorant of its true strength, I compared that fresh vigorous power of which I was reading in the first centuries......I said to myself, ‘Look on this picture and on that';  I felt affection for my own Church, but not tenderness; I felt dismay at her prospects, anger and scorn at her do-nothing perplexity. I thought that if Liberalism once got a footing within her, it was sure of the victory in the event. I saw that Reformation principles were powerless to rescue her. As to leaving her, the thought never crossed my imagination; still I ever kept before me that there was something greater than the Established Church, and that that was the Church Catholic and Apostolic, set up from the beginning, of which she was but the local presence and organ. She was nothing, unless she was this. She must be dealt with strongly, or she would be lost. There was need of a second Reformation.\n",
       "\n",
       "\n",
       "    \"At this time 1 was disengaged from College duties, and my health had suffered from the labours involved in the composition of my volume......I was easily persuaded to join Hurrell Froude and his father, who were going to the south of Europe for the health of the former. We set out in December, 1832. It was during this expedition that my verses which are in the \n",
       "<em>Lyra Apostolica</em>\n",
       " were written; a few indeed before it; but not more than one or two of them after it.....The strangeness of foreign life threw me back into myself; I found pleasure in historical sites and beautiful scenes, not in men and manners. We kept clear of Catholics throughout our tour......I saw nothing but what was external; of the hidden life of Catholics I knew nothing. I was still driven back into myself, and felt my isolation. England was in my thoughts solely, and the news from England came rarely and imperfectly. The Bill for the Suppression of the Irish Sees was in progress, and filled my mind. I had fierce thoughts against the Liberals. It was the success of the Liberal cause which fretted me inwardly. 1 became fierce against its instruments and its manifestations......Especially when I was left to myself, the thought came upon me that deliverance is wrought, not by the many but by the few, not by bodies but by persons....I began to think I had a mission....When we took leave of Monsignore Wiseman, he had courteously expressed a wish that we might make a second visit to Rome: I said with great gravity,‘We have a work to do in England.' I went down at once to Sicily, and the presentiment grew stronger. I struck into the middle of the island, and fell ill of a fever at Leonforte. My servant thought that I was dying, and begged for my last directions. I gave them, as he wished; but I said ‘I shall not die.' I repeated, 'I shall not die, for I have not sinned against light, I have not sinned against light.' I never have been able to make out at all what I meant. I got to Castro-Giovanni, and was laid up there for nearly three weeks.   Towards the end of May I set off for Palermo, taking three days for the journey. Before starting from my inn in the morning of May 26th or 27th, I sat down oh my bed, and began to sob bitterly. My servant, who acted as my nurse, asked what ailed me. I could only answer, 'I have a work to do in England.' I was aching to get home; yet for want of a vessel I was kept at Palermo for three weeks. I began to visit the Churches, and they calmed my impatience, though I did not attend any services. I knew nothing of the Presence of the Blessed Sacrament then. At last I got off in an orange boat bound for Marseilles. We were becalmed a whole week in the Straits of Bonifacio. Then it was that I wrote the lines 'Lead, kindly light' [June 16, 1833], which have since become well known. I was writing verses the whole time of my passage. At length I got to Marseilles, and set off for England. The fatigue of travelling was too much for me, and I was laid up for several days at Lyons. At last I got off again and did not stop night or day till I reached England, and my mother s house. My brother had arrived from Persia only a few hours before. This was Tuesday. The fol¬lowing Sunday, July 14th, Mr. Keble preached the Assize Sermon in the University Pulpit. It was published under the title of «National Apostasy.' I have ever considered and kept the day as the start of the religious movement of 1833.\""
      ],
      "text/plain": [
       "<IPython.core.display.Markdown object>"
      ]
     },
     "metadata": {},
     "output_type": "display_data"
    },
    {
     "data": {
      "text/markdown": [
       "In writing of further changes of thought which he underwent during the succeeding six years, Cardinal Newman says, \n",
       "<em>Apologia</em>\n",
       ", p. 214:—"
      ],
      "text/plain": [
       "<IPython.core.display.Markdown object>"
      ]
     },
     "metadata": {},
     "output_type": "display_data"
    },
    {
     "data": {
      "text/markdown": [
       "\"Now to trace the succession of thoughts, and the conclusions, and the consequent innovations on my previous belief, and the general conduct, to which I was led, upon this sudden visitation [stated  previously]. And first, I will say, whatever comes of saying it, for I leave inferences to others, that for years I must have had something of an habitual notion, though it was latent, and had never led me to distrust my own convictions, that my mind had not found its ultimate rest, and that in some sense or other I was on journey. During the same passage across the Mediterranean in which I wrote ‘Lead, kindly light,'  I also wrote verses, which are found in the \n",
       "<em>Lyra</em>\n",
       " under the head of  ‘Providences,' beginning, ‘When I look back.' This was in 1833; and, since I have begun this narrative, I have found a memorandum under the date of September 7,1829, in which I speak of myself, as now in my room in Oriel College, slowly advancing, &c, and led on by God's hand blindly, not knowing whither He is taking me.'\""
      ],
      "text/plain": [
       "<IPython.core.display.Markdown object>"
      ]
     },
     "metadata": {},
     "output_type": "display_data"
    },
    {
     "data": {
      "text/markdown": [
       "This, then, is the author's account of the state of his personal feeling, and the circumstances which surrounded him at the time that he wrote what must be regarded as one of the finest lyrics of the nineteenth century. Angry at the state of disunion and supineness in the Church he still loved and in which he still believed; confident that he had \"a mission,\" \"a work to do in England;\", passionately longing for home and the converse of friends ; sick in body to prostration, and, as some around him feared, even unto death; feeling that he should not die but live, and that he must work, but knowing hot what that work was to be, how it was to be done, or to what it might tend, he breathed forth the impassioned and pathetic prayer, one of the birth-pangs, it might be called, of the Oxford movement of 1833:—"
      ],
      "text/plain": [
       "<IPython.core.display.Markdown object>"
      ]
     },
     "metadata": {},
     "output_type": "display_data"
    },
    {
     "data": {
      "text/markdown": [
       "\"Lead, Kindly Light, amid the encircling gloom,\n",
       "\n",
       "\n",
       "Lead Thou me on; The night is dark, and I am far from home,\n",
       "\n",
       "\n",
       "Lead Thou me on.\n",
       "\n",
       "\n",
       "Keep Thou my feet; I do not ask to see\n",
       "\n",
       "\n",
       "The distant scene; one step enough for me.\n",
       "\n",
       "\n",
       "I was not ever thus, nor prayed that Thou\n",
       "\n",
       "\n",
       "Shouldst lead me on;\n",
       "\n",
       "\n",
       "I loved to choose and see my path; but now\n",
       "\n",
       "\n",
       "Lead Thou me on.\n",
       "\n",
       "\n",
       "I loved the garish day, and, spite of fears,\n",
       "\n",
       "\n",
       "Pride ruled my will: remember not past years.\n",
       "\n",
       "\n",
       "So long Thy power hath blest me, sure it still\n",
       "\n",
       "\n",
       "Will lead me on\n",
       "\n",
       "\n",
       "O'er moor and fen, o’er crag and torrent, till\n",
       "\n",
       "\n",
       "The night is gone,\n",
       "\n",
       "\n",
       "And with the morn those angel faces smile,\n",
       "\n",
       "\n",
       "Which I have loved long since, and lost awhile.\""
      ],
      "text/plain": [
       "<IPython.core.display.Markdown object>"
      ]
     },
     "metadata": {},
     "output_type": "display_data"
    },
    {
     "data": {
      "text/markdown": [
       "ii. The ambiguity of the two closing lines has caused much speculation and controversy. Summarised,  the principal interpretations\n",
       "\n",
       "\n",
       "1.  The troubled and hesitating  spirit finds itself \"amid encircling gloom\"; \"the night is dark\"; and the soul has lost awhile the \"angel faces,\" not only of Fancy and Hope and Youthful Confidence, but of those divine forms of faith and assurance, which it had \"loved long since,\" which had accompanied the believer during the early fervour of his belief.— \n",
       "<em>Notes and Queries</em>\n",
       ", April 3, 1880.\n",
       "\n",
       "\n",
       "2.  A second interpretation is that \"those angel faces\" are the faces of the ministering spirits, \"sent forth to minister to them who shall be heirs of salvation.\"\n",
       "\n",
       "\n",
       "3.  A third Interpretation is that these lines are expressive of the Christian's hope of being re-united on the resurrection morn with those loved and lost by death on earth.   (\n",
       "<em>Notes &amp; Queries</em>\n",
       ", April 3, 1880.)   This application of the lines is set forth in a window of one of the churches of Clevedon.   An angel is represented  as soaring upwards, bearing away from earth two infants in his arms, and these two lines are quoted underneath.-- \n",
       "<em>Notes and Queries</em>\n",
       ", 6th S. I., Aug. 7, 1880, p. 118.\n",
       "\n",
       "\n",
       "4.  A fourth interpretation is, \"When all the absorbing business, and care and pleasures of life are beginning to weary us, when the world is losing something of its hold on us, and we once more catch glimpses as it were of that other life which most of us here at some time dreamed, and perhaps, though all too feebly, striven for, then the better soul wakes from its slumbers ; the night is gone, \"And with the morn those angel faces smile,\" &c. —-\n",
       "<em>Notes and Queries</em>\n",
       ", 6th S. I., May 8, 1880, p. 385.\n",
       "\n",
       "\n",
       "5.  Another explanation is suggested in the question, \"Do these lines refer to the more intimate communion of infants with the unseen world of spirits which was lost in later years?\"— \n",
       "<em>Notes and Queries</em>\n",
       ", 6th S. I., June 12, 1880, p. 480.\n",
       "\n",
       "\n",
       "To all which, and to all other interpretations that have been made or may be made, Cardinal Newman gives answer in a letter to Dr. Greenhill, printed in the Guardian, Feb. 25, 1880, p. 257, and repeated in\n",
       "<em>Notes &amp; Queries<em>, 6th 8. I., March 20, 1880, p. 232.</em></em>"
      ],
      "text/plain": [
       "<IPython.core.display.Markdown object>"
      ]
     },
     "metadata": {},
     "output_type": "display_data"
    },
    {
     "data": {
      "text/markdown": [
       "\"The Oratory, January 18, 1879.\n",
       "\n",
       "\n",
       "\"My dear Dr. Greenhill,—You flatter me by your questions; but I think it was Keble who, when asked it in his own case, answered that poets were not bound to be critics, or to give a sense to what they had written, and though I am not like him, a poet, at least I may plead that I am not bound to remember my own meaning, whatever it was, at the end of almost fifty years. Anyhow there must be a statute of limitation for writers of verse, or it would be quite tyranny if in an art, which is the expression, not of truth, but of imagination and sentiment, one were obliged to be ready for examination on the transient states of mind which came upon one when home sick, or sea sick, or in any other way sensitive, or excited.\n",
       "\n",
       "\n",
       "\"Yours most truly, John H. Newman.\""
      ],
      "text/plain": [
       "<IPython.core.display.Markdown object>"
      ]
     },
     "metadata": {},
     "output_type": "display_data"
    },
    {
     "data": {
      "text/markdown": [
       "We may add that in thus forgetting the meaning of a passage written so long before, the author is not alone. Coleridge, Goethe, and other poets have confessed to the same infirmity.\n",
       "\n",
       "\n",
       "iii. The history of the publication of this lyric is very simple, the only noticeable feature being the changes in the motto which may be taken as setting forth the meaning Cardinal Newman attached to it at various periods in his history. It was first published in the \n",
       "<em>British Magazine</em>\n",
       ", March, 1834, with the motto \"Faith-Heavenly Leadings;\" again in \n",
       "<em>Lyra Apostolica</em>\n",
       ", 1836, p. 28, the motto reading, \"Unto the godly there ariseth up light in the darkness\": and again in the author's \n",
       "<em>Occasional Verses</em>\n",
       ", 1868, the motto being \"The Pillar of the Cloud.\"\n",
       "\n",
       "\n",
       "iv. Alterations in, and additions to, the text are not numerous. Bishop Bickersteth's additional stanza reads in the \n",
       "<em>Hymnal Companion</em>"
      ],
      "text/plain": [
       "<IPython.core.display.Markdown object>"
      ]
     },
     "metadata": {},
     "output_type": "display_data"
    },
    {
     "data": {
      "text/markdown": [
       "\"Meantime along the narrow rugged path,\n",
       "\n",
       "\n",
       "Thyself hast trod,\n",
       "\n",
       "\n",
       "Lead, Saviour, lead me home in Childlike faith\n",
       "\n",
       "\n",
       "Home to my God,\n",
       "\n",
       "\n",
       "To rest for ever after earthly strife\n",
       "\n",
       "\n",
       "In the calm light of everlasting life.\""
      ],
      "text/plain": [
       "<IPython.core.display.Markdown object>"
      ]
     },
     "metadata": {},
     "output_type": "display_data"
    },
    {
     "data": {
      "text/markdown": [
       "To this stanza Bishop Bickersteth has added this explanation in his \n",
       "<em>Notes</em>\n",
       " of 1876:—"
      ],
      "text/plain": [
       "<IPython.core.display.Markdown object>"
      ]
     },
     "metadata": {},
     "output_type": "display_data"
    },
    {
     "data": {
      "text/markdown": [
       "\"The last verse, which is founded on the Collect for St. John the Evangelist's day, and which it is hoped will be found in unison with those that precede it, was added by the Editor from a sense of need and from a deep conviction that the heart of the belated pilgrim can only find rest in the Light of Light.\""
      ],
      "text/plain": [
       "<IPython.core.display.Markdown object>"
      ]
     },
     "metadata": {},
     "output_type": "display_data"
    },
    {
     "data": {
      "text/markdown": [
       "Alterations of the text are few. In Dr. Bonar's \n",
       "<em>Bible Hymn Book</em>\n",
       ", 1845, No. 116, it begins, \"Lead, Saviour, lead, amid the en¬circling gloom\"; and \"the garish day” is changed to \"the glare of day.\" Two or three books have also adopted this reading. In the \n",
       "<em>Hmymns for Church and Home, Compiled by Members of the Protestant Episcopal Church</em>\n",
       ", Philadelphia, 1860, it begins, \"Send, Lord, Thy light amid th’ encircling gloom.\"  “I loved the garish day,\" reads, “I loved day's dazzling light\"; and stanza iii., lines 1-4:—"
      ],
      "text/plain": [
       "<IPython.core.display.Markdown object>"
      ]
     },
     "metadata": {},
     "output_type": "display_data"
    },
    {
     "data": {
      "text/markdown": [
       "“So long Thy power hath \n",
       "<em>bless'd</em>\n",
       " me, \n",
       "<em>surely</em>\n",
       " still\n",
       "\n",
       "<em>'Twill</em>\n",
       " lead me on\n",
       "\n",
       "<em>Through dreary hours, through pain and sorrow</em>\n",
       ", till\n",
       "\n",
       "\n",
       "The night is gone.\""
      ],
      "text/plain": [
       "<IPython.core.display.Markdown object>"
      ]
     },
     "metadata": {},
     "output_type": "display_data"
    },
    {
     "data": {
      "text/markdown": [
       "In the \n",
       "<em>Unitarian Hymns of the Spirit</em>\n",
       ", Boston, U. S. A., 1864, the original first line is restored; \"day's dazzling light” is retained; and the lines above are repeated with \"dreary hours\" changed to “dreary doubts.\"  Another alteration is \"Send kindly light,\" &c. (H. W. Beecher's \n",
       "<em>Plymouth Collection</em>\n",
       ", 1855). The weakness of all these amendments is the surest safeguard against their general adoption.\n",
       "\n",
       "\n",
       "The hymn has been rendered into several languages. The Latin versions are:—\"O Lux benigna duce,\" by the Rev. H.M. Macgill, 1876; and \"O Lux alma, bono protinus auspice,\" by the Rev. Jackson Mason, and \"Alma Lux, inter media tenebras,\" by \"C. G. G.,\" both in the \n",
       "<em>Guardian</em>\n",
       " of Jan. 3, 1883."
      ],
      "text/plain": [
       "<IPython.core.display.Markdown object>"
      ]
     },
     "metadata": {},
     "output_type": "display_data"
    },
    {
     "data": {
      "text/markdown": [
       "--John Julian, \n",
       "<em>Dictionary of Hymnology</em>\n",
       "  (1907)"
      ],
      "text/plain": [
       "<IPython.core.display.Markdown object>"
      ]
     },
     "metadata": {},
     "output_type": "display_data"
    },
    {
     "data": {
      "text/markdown": [
       "======================="
      ],
      "text/plain": [
       "<IPython.core.display.Markdown object>"
      ]
     },
     "metadata": {},
     "output_type": "display_data"
    },
    {
     "data": {
      "text/markdown": [
       "<strong>Lead, kindly Light</strong>\n",
       ", p. 669, i. Another rendering into Latin is \"Almâ Luce semper duce,\" in \n",
       "<em>Blackwood's Magazine</em>\n",
       ", Jan. 1887, p. 80, and signed, \"J. P. M.\""
      ],
      "text/plain": [
       "<IPython.core.display.Markdown object>"
      ]
     },
     "metadata": {},
     "output_type": "display_data"
    },
    {
     "data": {
      "text/markdown": [
       "--John Julian, \n",
       "<em>Dictionary of Hymnology, Appendix, Part II</em>\n",
       "  (1907)"
      ],
      "text/plain": [
       "<IPython.core.display.Markdown object>"
      ]
     },
     "metadata": {},
     "output_type": "display_data"
    },
    {
     "data": {
      "text/markdown": [
       "=================="
      ],
      "text/plain": [
       "<IPython.core.display.Markdown object>"
      ]
     },
     "metadata": {},
     "output_type": "display_data"
    },
    {
     "data": {
      "text/markdown": [
       "<strong>Lead, kindly Light, amid the encircling gloom</strong>\n",
       ", pp. 667, i.; 1577, i. To the translations of this hymn into Latin we have to add (1) \"Due me benigna lux tenebrarum precor,\" by \"W. F. R. S.,\" in the \n",
       "<em>Guardian</em>\n",
       ", Jan. 17, 1883; and (2) \"Lux ades alma: per hanc, qua. nox circumvolat umbram,\" by Richard Horton Smith in \n",
       "<em> Notes &amp; Queries</em>\n",
       ", Ninth Series, Vol. X., p. 425."
      ],
      "text/plain": [
       "<IPython.core.display.Markdown object>"
      ]
     },
     "metadata": {},
     "output_type": "display_data"
    },
    {
     "data": {
      "text/markdown": [
       "--John Julian, \n",
       "<em>Dictionary of Hymnology, New Supplement</em>\n",
       "  (1907)"
      ],
      "text/plain": [
       "<IPython.core.display.Markdown object>"
      ]
     },
     "metadata": {},
     "output_type": "display_data"
    },
    {
     "data": {
      "text/markdown": [
       "A separate copy of this score must be purchased for each choir member. If this score will be projected or included in a bulletin, usage must be reported to a licensing agent (e.g. CCLI, OneLicense, etc)."
      ],
      "text/plain": [
       "<IPython.core.display.Markdown object>"
      ]
     },
     "metadata": {},
     "output_type": "display_data"
    },
    {
     "data": {
      "text/markdown": [
       "<small><a href=\"/info/advertisements.html\">Advertisements</a></small>"
      ],
      "text/plain": [
       "<IPython.core.display.Markdown object>"
      ]
     },
     "metadata": {},
     "output_type": "display_data"
    },
    {
     "data": {
      "text/markdown": [
       "<small><a href=\"/info/advertisements.html\">Advertisements</a></small>"
      ],
      "text/plain": [
       "<IPython.core.display.Markdown object>"
      ]
     },
     "metadata": {},
     "output_type": "display_data"
    },
    {
     "name": "stdout",
     "output_type": "stream",
     "text": [
      "\u001b[1m467: Saviour! Thy Dying Love\u001b[0m\n",
      "https://www.youtube.com/watch?v=CHqvwQKH9So\n",
      "https://hymnary.org/text/savior_thy_dying_love_thou_gavest_me\n"
     ]
    },
    {
     "data": {
      "text/markdown": [
       "1 Savior, Thy dying love\n",
       "\n",
       "\r\n",
       "Thou gavest me,\n",
       "\n",
       "\r\n",
       "Nor should I aught withhold,\n",
       "\n",
       "\r\n",
       "Dear Lord, from Thee:\n",
       "\n",
       "\r\n",
       "In love my soul would bow,\n",
       "\n",
       "\r\n",
       "My heart fulfill its vow,\n",
       "\n",
       "\r\n",
       "Some off'ring bring Thee now,\n",
       "\n",
       "\r\n",
       "Something for Thee.\n"
      ],
      "text/plain": [
       "<IPython.core.display.Markdown object>"
      ]
     },
     "metadata": {},
     "output_type": "display_data"
    },
    {
     "data": {
      "text/markdown": [
       "2 At the blest mercy seat,\n",
       "\n",
       "\r\n",
       "Pleading for me,\n",
       "\n",
       "\r\n",
       "My feeble faith looks up,\n",
       "\n",
       "\r\n",
       "Jesus, to Thee:\n",
       "\n",
       "\r\n",
       "Help me the cross to bear,\n",
       "\n",
       "\r\n",
       "Thy wondrous love declare,\n",
       "\n",
       "\r\n",
       "Some song to raise, or pray'r,\n",
       "\n",
       "\r\n",
       "Something for Thee.\n"
      ],
      "text/plain": [
       "<IPython.core.display.Markdown object>"
      ]
     },
     "metadata": {},
     "output_type": "display_data"
    },
    {
     "data": {
      "text/markdown": [
       "3 Give me a faithful heart,\n",
       "\n",
       "\r\n",
       "Likeness to Thee,\n",
       "\n",
       "\r\n",
       "That each departing day\n",
       "\n",
       "\r\n",
       "Henceforth may see\n",
       "\n",
       "\r\n",
       "Some work of love begun,\n",
       "\n",
       "\r\n",
       "Some deed of kindness done,\n",
       "\n",
       "\r\n",
       "Some wand'rer sought and won,\n",
       "\n",
       "\r\n",
       "Something for Thee.\n"
      ],
      "text/plain": [
       "<IPython.core.display.Markdown object>"
      ]
     },
     "metadata": {},
     "output_type": "display_data"
    },
    {
     "data": {
      "text/markdown": [
       "4 All that I am and have,\n",
       "\n",
       "\r\n",
       "Thy gifts so free,\n",
       "\n",
       "\r\n",
       "In joy, in grief, thro' life,\n",
       "\n",
       "\r\n",
       "Dear Lord, for Thee!\n",
       "\n",
       "\r\n",
       "And when Thy face I see,\n",
       "\n",
       "\r\n",
       "My ransom'd soul shall be,\n",
       "\n",
       "\r\n",
       "Thro' all eternity,\n",
       "\n",
       "\r\n",
       "Something for Thee.\n"
      ],
      "text/plain": [
       "<IPython.core.display.Markdown object>"
      ]
     },
     "metadata": {},
     "output_type": "display_data"
    },
    {
     "data": {
      "text/markdown": [
       "Baptist Hymnal, 1991"
      ],
      "text/plain": [
       "<IPython.core.display.Markdown object>"
      ]
     },
     "metadata": {},
     "output_type": "display_data"
    },
    {
     "data": {
      "text/markdown": [
       "The text for “Savior, Thy Dying Love” was first published in 1862 by Sylvanus Dryden Phelps, a Baptist minister. He wrote the text for “Savior, Thy Dying Love” after he was asked to contribute several hymns for Robert Lowry’s hymn book, \n",
       "<cite>Pure Gold.</cite>"
      ],
      "text/plain": [
       "<IPython.core.display.Markdown object>"
      ]
     },
     "metadata": {},
     "output_type": "display_data"
    },
    {
     "data": {
      "text/markdown": [
       "SOMETHING FOR JESUS is by far the tune most commonly paired with the text. It was composed in 1871 by Robert Lowry after he received the text from Phelps. This is the tune that will always be associated with Phelps’ text. \r\n",
       "This melancholy, almost mournful tune fits the words well. The hymn generally sounds better when incorporating harmony into the music."
      ],
      "text/plain": [
       "<IPython.core.display.Markdown object>"
      ]
     },
     "metadata": {},
     "output_type": "display_data"
    },
    {
     "data": {
      "text/markdown": [
       "The content of this hymn specifically addresses the sacrifice that Christ made on the cross, and would be best incorporated in a Good Friday service, although it could work on Easter Sunday as well."
      ],
      "text/plain": [
       "<IPython.core.display.Markdown object>"
      ]
     },
     "metadata": {},
     "output_type": "display_data"
    },
    {
     "data": {
      "text/markdown": [
       "Suggested music for this hymn:"
      ],
      "text/plain": [
       "<IPython.core.display.Markdown object>"
      ]
     },
     "metadata": {},
     "output_type": "display_data"
    },
    {
     "data": {
      "text/markdown": [
       "Luke Getz"
      ],
      "text/plain": [
       "<IPython.core.display.Markdown object>"
      ]
     },
     "metadata": {},
     "output_type": "display_data"
    },
    {
     "data": {
      "text/markdown": [
       "FlexScores are available in the \n",
       "<a href=\"#media\">Media</a>\n",
       " section below."
      ],
      "text/plain": [
       "<IPython.core.display.Markdown object>"
      ]
     },
     "metadata": {},
     "output_type": "display_data"
    },
    {
     "data": {
      "text/markdown": [
       "A separate copy of this score must be purchased for each choir member. If this score will be projected or included in a bulletin, usage must be reported to a licensing agent (e.g. CCLI, OneLicense, etc)."
      ],
      "text/plain": [
       "<IPython.core.display.Markdown object>"
      ]
     },
     "metadata": {},
     "output_type": "display_data"
    },
    {
     "data": {
      "text/markdown": [
       "<small><a href=\"/info/advertisements.html\">Advertisements</a></small>"
      ],
      "text/plain": [
       "<IPython.core.display.Markdown object>"
      ]
     },
     "metadata": {},
     "output_type": "display_data"
    },
    {
     "data": {
      "text/markdown": [
       "<small><a href=\"/info/advertisements.html\">Advertisements</a></small>"
      ],
      "text/plain": [
       "<IPython.core.display.Markdown object>"
      ]
     },
     "metadata": {},
     "output_type": "display_data"
    }
   ],
   "source": [
    "for hymn_number in HYMN_NUMBERS:\n",
    "    print(color.BOLD + f'{hymn_number}: {HYMN_TITLES[hymn_number]}' + color.END)\n",
    "    url = get_hymnal_url(title=HYMN_TITLES[hymn_number] + ' hymn')\n",
    "    text = get_hymn_lyrics(site='hymnal', url=url)"
   ]
  },
  {
   "cell_type": "code",
   "execution_count": null,
   "metadata": {},
   "outputs": [],
   "source": []
  }
 ],
 "metadata": {
  "kernelspec": {
   "display_name": "Python 3",
   "language": "python",
   "name": "python3"
  },
  "language_info": {
   "codemirror_mode": {
    "name": "ipython",
    "version": 3
   },
   "file_extension": ".py",
   "mimetype": "text/x-python",
   "name": "python",
   "nbconvert_exporter": "python",
   "pygments_lexer": "ipython3",
   "version": "3.6.5"
  }
 },
 "nbformat": 4,
 "nbformat_minor": 2
}
